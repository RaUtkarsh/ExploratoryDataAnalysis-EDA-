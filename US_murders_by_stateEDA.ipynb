{
 "cells": [
  {
   "cell_type": "markdown",
   "id": "36f95d1f-bb43-4256-b275-2ebc49d50b16",
   "metadata": {},
   "source": [
    "Exploratory Data Analysis on Murder Rates by states"
   ]
  },
  {
   "cell_type": "code",
   "execution_count": 29,
   "id": "186b0a5b-8d6f-4d66-ba13-a151ecaea8e2",
   "metadata": {},
   "outputs": [],
   "source": [
    "import pandas as pd\n",
    "import numpy as np\n",
    "import matplotlib.pyplot as plt\n",
    "from scipy import stats\n",
    "import wquantiles\n",
    "import statistics as st\n",
    "import seaborn as sns"
   ]
  },
  {
   "cell_type": "code",
   "execution_count": 2,
   "id": "f88d420d-3611-4976-bf22-8b4c17af2ca0",
   "metadata": {},
   "outputs": [
    {
     "data": {
      "text/html": [
       "<div>\n",
       "<style scoped>\n",
       "    .dataframe tbody tr th:only-of-type {\n",
       "        vertical-align: middle;\n",
       "    }\n",
       "\n",
       "    .dataframe tbody tr th {\n",
       "        vertical-align: top;\n",
       "    }\n",
       "\n",
       "    .dataframe thead th {\n",
       "        text-align: right;\n",
       "    }\n",
       "</style>\n",
       "<table border=\"1\" class=\"dataframe\">\n",
       "  <thead>\n",
       "    <tr style=\"text-align: right;\">\n",
       "      <th></th>\n",
       "      <th>State</th>\n",
       "      <th>Population</th>\n",
       "      <th>Murder.Rate</th>\n",
       "      <th>Abbreviation</th>\n",
       "    </tr>\n",
       "  </thead>\n",
       "  <tbody>\n",
       "    <tr>\n",
       "      <th>0</th>\n",
       "      <td>Alabama</td>\n",
       "      <td>4779736</td>\n",
       "      <td>5.7</td>\n",
       "      <td>AL</td>\n",
       "    </tr>\n",
       "    <tr>\n",
       "      <th>1</th>\n",
       "      <td>Alaska</td>\n",
       "      <td>710231</td>\n",
       "      <td>5.6</td>\n",
       "      <td>AK</td>\n",
       "    </tr>\n",
       "    <tr>\n",
       "      <th>2</th>\n",
       "      <td>Arizona</td>\n",
       "      <td>6392017</td>\n",
       "      <td>4.7</td>\n",
       "      <td>AZ</td>\n",
       "    </tr>\n",
       "    <tr>\n",
       "      <th>3</th>\n",
       "      <td>Arkansas</td>\n",
       "      <td>2915918</td>\n",
       "      <td>5.6</td>\n",
       "      <td>AR</td>\n",
       "    </tr>\n",
       "    <tr>\n",
       "      <th>4</th>\n",
       "      <td>California</td>\n",
       "      <td>37253956</td>\n",
       "      <td>4.4</td>\n",
       "      <td>CA</td>\n",
       "    </tr>\n",
       "  </tbody>\n",
       "</table>\n",
       "</div>"
      ],
      "text/plain": [
       "        State  Population  Murder.Rate Abbreviation\n",
       "0     Alabama     4779736          5.7           AL\n",
       "1      Alaska      710231          5.6           AK\n",
       "2     Arizona     6392017          4.7           AZ\n",
       "3    Arkansas     2915918          5.6           AR\n",
       "4  California    37253956          4.4           CA"
      ]
     },
     "execution_count": 2,
     "metadata": {},
     "output_type": "execute_result"
    }
   ],
   "source": [
    "data = pd.read_csv('state.csv')\n",
    "data.head()"
   ]
  },
  {
   "cell_type": "markdown",
   "id": "a279c5f9-8eb1-44b6-b493-4ae110e50f40",
   "metadata": {},
   "source": [
    "Checking for duplicates and null values"
   ]
  },
  {
   "cell_type": "code",
   "execution_count": 3,
   "id": "28dcea1a-f815-48bf-87b4-694f7190eb6b",
   "metadata": {},
   "outputs": [
    {
     "name": "stdout",
     "output_type": "stream",
     "text": [
      "<class 'pandas.core.frame.DataFrame'>\n",
      "RangeIndex: 50 entries, 0 to 49\n",
      "Data columns (total 4 columns):\n",
      " #   Column        Non-Null Count  Dtype  \n",
      "---  ------        --------------  -----  \n",
      " 0   State         50 non-null     object \n",
      " 1   Population    50 non-null     int64  \n",
      " 2   Murder.Rate   50 non-null     float64\n",
      " 3   Abbreviation  50 non-null     object \n",
      "dtypes: float64(1), int64(1), object(2)\n",
      "memory usage: 1.7+ KB\n"
     ]
    }
   ],
   "source": [
    "data.info()"
   ]
  },
  {
   "cell_type": "code",
   "execution_count": 4,
   "id": "dbdb5c0c-4dd2-4c7e-978f-52f40734c042",
   "metadata": {},
   "outputs": [
    {
     "data": {
      "text/plain": [
       "State           0\n",
       "Population      0\n",
       "Murder.Rate     0\n",
       "Abbreviation    0\n",
       "dtype: int64"
      ]
     },
     "execution_count": 4,
     "metadata": {},
     "output_type": "execute_result"
    }
   ],
   "source": [
    "data.isna().sum()"
   ]
  },
  {
   "cell_type": "code",
   "execution_count": 5,
   "id": "feab53a4-9813-453b-b06f-4d9c421c4ca4",
   "metadata": {},
   "outputs": [
    {
     "data": {
      "text/plain": [
       "0"
      ]
     },
     "execution_count": 5,
     "metadata": {},
     "output_type": "execute_result"
    }
   ],
   "source": [
    "data.duplicated(keep = 'first').sum()"
   ]
  },
  {
   "cell_type": "code",
   "execution_count": 6,
   "id": "12cd43ff-06dc-4415-94a6-b07fc0dcb2d8",
   "metadata": {},
   "outputs": [
    {
     "data": {
      "text/html": [
       "<div>\n",
       "<style scoped>\n",
       "    .dataframe tbody tr th:only-of-type {\n",
       "        vertical-align: middle;\n",
       "    }\n",
       "\n",
       "    .dataframe tbody tr th {\n",
       "        vertical-align: top;\n",
       "    }\n",
       "\n",
       "    .dataframe thead th {\n",
       "        text-align: right;\n",
       "    }\n",
       "</style>\n",
       "<table border=\"1\" class=\"dataframe\">\n",
       "  <thead>\n",
       "    <tr style=\"text-align: right;\">\n",
       "      <th></th>\n",
       "      <th>Population</th>\n",
       "      <th>Murder.Rate</th>\n",
       "    </tr>\n",
       "  </thead>\n",
       "  <tbody>\n",
       "    <tr>\n",
       "      <th>count</th>\n",
       "      <td>5.000000e+01</td>\n",
       "      <td>50.000000</td>\n",
       "    </tr>\n",
       "    <tr>\n",
       "      <th>mean</th>\n",
       "      <td>6.162876e+06</td>\n",
       "      <td>4.066000</td>\n",
       "    </tr>\n",
       "    <tr>\n",
       "      <th>std</th>\n",
       "      <td>6.848235e+06</td>\n",
       "      <td>1.915736</td>\n",
       "    </tr>\n",
       "    <tr>\n",
       "      <th>min</th>\n",
       "      <td>5.636260e+05</td>\n",
       "      <td>0.900000</td>\n",
       "    </tr>\n",
       "    <tr>\n",
       "      <th>25%</th>\n",
       "      <td>1.833004e+06</td>\n",
       "      <td>2.425000</td>\n",
       "    </tr>\n",
       "    <tr>\n",
       "      <th>50%</th>\n",
       "      <td>4.436370e+06</td>\n",
       "      <td>4.000000</td>\n",
       "    </tr>\n",
       "    <tr>\n",
       "      <th>75%</th>\n",
       "      <td>6.680312e+06</td>\n",
       "      <td>5.550000</td>\n",
       "    </tr>\n",
       "    <tr>\n",
       "      <th>max</th>\n",
       "      <td>3.725396e+07</td>\n",
       "      <td>10.300000</td>\n",
       "    </tr>\n",
       "  </tbody>\n",
       "</table>\n",
       "</div>"
      ],
      "text/plain": [
       "         Population  Murder.Rate\n",
       "count  5.000000e+01    50.000000\n",
       "mean   6.162876e+06     4.066000\n",
       "std    6.848235e+06     1.915736\n",
       "min    5.636260e+05     0.900000\n",
       "25%    1.833004e+06     2.425000\n",
       "50%    4.436370e+06     4.000000\n",
       "75%    6.680312e+06     5.550000\n",
       "max    3.725396e+07    10.300000"
      ]
     },
     "execution_count": 6,
     "metadata": {},
     "output_type": "execute_result"
    }
   ],
   "source": [
    "data.describe()"
   ]
  },
  {
   "cell_type": "markdown",
   "id": "e41cf479-03c4-41e8-b79e-b12ae8aed99a",
   "metadata": {},
   "source": [
    "Estimate of Location"
   ]
  },
  {
   "cell_type": "markdown",
   "id": "f3858cce-b8f0-4136-a2c7-d34da2088165",
   "metadata": {},
   "source": [
    "Mean"
   ]
  },
  {
   "cell_type": "code",
   "execution_count": 7,
   "id": "6c42fc44-12c9-4efd-9b9a-6af723153344",
   "metadata": {},
   "outputs": [
    {
     "data": {
      "text/plain": [
       "6162876.3"
      ]
     },
     "execution_count": 7,
     "metadata": {},
     "output_type": "execute_result"
    }
   ],
   "source": [
    "data['Population'].mean()"
   ]
  },
  {
   "cell_type": "markdown",
   "id": "ac2decbe-5a46-4953-9207-2f44c9dbffa7",
   "metadata": {},
   "source": [
    "Trimmed Mean from scipy.stats module"
   ]
  },
  {
   "cell_type": "code",
   "execution_count": 8,
   "id": "c1fbfc67-9c25-4640-bad0-490a5c0eeb0e",
   "metadata": {},
   "outputs": [
    {
     "data": {
      "text/plain": [
       "array([4783697.125])"
      ]
     },
     "execution_count": 8,
     "metadata": {},
     "output_type": "execute_result"
    }
   ],
   "source": [
    "stats.trim_mean(data[['Population']], 0.1)"
   ]
  },
  {
   "cell_type": "markdown",
   "id": "7c72901c-6ffc-4944-b47f-935879e411c4",
   "metadata": {},
   "source": [
    "Median"
   ]
  },
  {
   "cell_type": "code",
   "execution_count": 9,
   "id": "7163526e-272c-4b66-a99e-ae9cef7c49b8",
   "metadata": {},
   "outputs": [
    {
     "data": {
      "text/plain": [
       "4436369.5"
      ]
     },
     "execution_count": 9,
     "metadata": {},
     "output_type": "execute_result"
    }
   ],
   "source": [
    "np.median(data[['Population']])"
   ]
  },
  {
   "cell_type": "markdown",
   "id": "bdcb9eb3-2dfb-4d2f-8c17-ac381534a54b",
   "metadata": {},
   "source": [
    "Weighted Mean and Weighted Median"
   ]
  },
  {
   "cell_type": "code",
   "execution_count": 10,
   "id": "eeec37f1-2494-4574-8065-7f0f5a66c004",
   "metadata": {},
   "outputs": [
    {
     "name": "stdout",
     "output_type": "stream",
     "text": [
      "Weighted Mean:  4.445833981123393\n",
      "Weighted Median:  4.4\n"
     ]
    }
   ],
   "source": [
    "Wmean = np.average(data['Murder.Rate'], weights = data['Population'])\n",
    "Wmedian = wquantiles.median(data['Murder.Rate'], weights = data['Population'])\n",
    "print('Weighted Mean: ', Wmean)\n",
    "print('Weighted Median: ', Wmedian)"
   ]
  },
  {
   "cell_type": "markdown",
   "id": "48844d6e-9de6-4240-8247-900e6ea0f01f",
   "metadata": {},
   "source": [
    "Estimates of Variability"
   ]
  },
  {
   "cell_type": "markdown",
   "id": "2d19a7b4-7128-4ef3-a344-fc0dfdb489a4",
   "metadata": {},
   "source": [
    "Deviation"
   ]
  },
  {
   "cell_type": "code",
   "execution_count": 11,
   "id": "16b033ff-758b-48b3-b263-5f3a00eff4bd",
   "metadata": {},
   "outputs": [
    {
     "name": "stdout",
     "output_type": "stream",
     "text": [
      "Location:  [4783697.125]\n"
     ]
    },
    {
     "data": {
      "text/plain": [
       "[array([-3961.125]),\n",
       " array([-4073466.125]),\n",
       " array([1608319.875]),\n",
       " array([-1867779.125]),\n",
       " array([32470258.875]),\n",
       " array([245498.875]),\n",
       " array([-1209600.125]),\n",
       " array([-3885763.125]),\n",
       " array([14017612.875]),\n",
       " array([4903955.875])]"
      ]
     },
     "execution_count": 11,
     "metadata": {},
     "output_type": "execute_result"
    }
   ],
   "source": [
    "loc_population = stats.trim_mean(data[['Population']], 0.1)\n",
    "deviated_population = []\n",
    "for i in range(len(data.Population)):\n",
    "    deviated_population.append(data['Population'][i] - loc_population)\n",
    "print('Location: ', loc_population)\n",
    "deviated_population[:10]  "
   ]
  },
  {
   "cell_type": "code",
   "execution_count": 12,
   "id": "2d36232e-46a4-4279-9211-8a4ce923340d",
   "metadata": {},
   "outputs": [
    {
     "name": "stdout",
     "output_type": "stream",
     "text": [
      "Location:  [3.94]\n"
     ]
    },
    {
     "data": {
      "text/plain": [
       "[array([1.76]),\n",
       " array([1.65]),\n",
       " array([0.75]),\n",
       " array([1.65]),\n",
       " array([0.46]),\n",
       " array([-1.15]),\n",
       " array([-1.55]),\n",
       " array([1.85]),\n",
       " array([1.85]),\n",
       " array([1.76])]"
      ]
     },
     "execution_count": 12,
     "metadata": {},
     "output_type": "execute_result"
    }
   ],
   "source": [
    "loc_mdR = stats.trim_mean(data[['Murder.Rate']], 0.1)\n",
    "dev_mdR = []\n",
    "for i in range(len(data['Murder.Rate'])):\n",
    "    dev_mdR.append(np.round(data[\"Murder.Rate\"][i]-loc_mdR, 2))\n",
    "print('Location: ', np.round(loc_mdR, 2))\n",
    "dev_mdR[:10]"
   ]
  },
  {
   "cell_type": "markdown",
   "id": "44ac8789-4521-4598-b5a3-f27e1ac92b82",
   "metadata": {},
   "source": [
    "Variance"
   ]
  },
  {
   "cell_type": "code",
   "execution_count": 13,
   "id": "7bc7ad4e-277e-43ef-ac5f-ffc55402da69",
   "metadata": {},
   "outputs": [
    {
     "data": {
      "text/plain": [
       "45960360825926.56"
      ]
     },
     "execution_count": 13,
     "metadata": {},
     "output_type": "execute_result"
    }
   ],
   "source": [
    "var_pop = np.var(data['Population'])\n",
    "var_pop"
   ]
  },
  {
   "cell_type": "code",
   "execution_count": 14,
   "id": "fd39f791-5e64-4dea-975e-212a26c50b8d",
   "metadata": {},
   "outputs": [
    {
     "data": {
      "text/plain": [
       "3.6"
      ]
     },
     "execution_count": 14,
     "metadata": {},
     "output_type": "execute_result"
    }
   ],
   "source": [
    "var_mdR = np.var(data['Murder.Rate'])\n",
    "np.round(var_mdR, 2)"
   ]
  },
  {
   "cell_type": "markdown",
   "id": "9661541c-5e09-4f60-b46f-c3c01f831905",
   "metadata": {},
   "source": [
    "Standard Deviation"
   ]
  },
  {
   "cell_type": "code",
   "execution_count": 15,
   "id": "3527057e-f21d-433f-8c0f-f3e5016b6c0d",
   "metadata": {},
   "outputs": [
    {
     "name": "stdout",
     "output_type": "stream",
     "text": [
      "Standard deviation of population:  6779407.11\n"
     ]
    }
   ],
   "source": [
    "std_pop = np.std(data['Population'])\n",
    "print('Standard deviation of population: ', np.round(std_pop, 2))"
   ]
  },
  {
   "cell_type": "code",
   "execution_count": 16,
   "id": "53cc10d6-36f6-4ac8-87f6-6f61acd4b838",
   "metadata": {},
   "outputs": [
    {
     "name": "stdout",
     "output_type": "stream",
     "text": [
      "Standard deviation of murder rate:  1.9\n"
     ]
    }
   ],
   "source": [
    "std_mdR = np.std(data['Murder.Rate'])\n",
    "print('Standard deviation of murder rate: ', np.round(std_mdR, 2))"
   ]
  },
  {
   "cell_type": "markdown",
   "id": "bdaa3432-f683-4dd4-a698-d44bb4836780",
   "metadata": {},
   "source": [
    "Mean Absolute Deviation"
   ]
  },
  {
   "cell_type": "code",
   "execution_count": 17,
   "id": "7900522b-79b4-4246-a617-53ad6b397b5e",
   "metadata": {},
   "outputs": [
    {
     "data": {
      "text/plain": [
       "4450933.36"
      ]
     },
     "execution_count": 17,
     "metadata": {},
     "output_type": "execute_result"
    }
   ],
   "source": [
    "mad_pop = data['Population'].mad()\n",
    "np.round(mad_pop, 2)"
   ]
  },
  {
   "cell_type": "code",
   "execution_count": 18,
   "id": "7d4d811b-b527-4f97-bae6-0c22f9e77f98",
   "metadata": {},
   "outputs": [
    {
     "data": {
      "text/plain": [
       "1.55"
      ]
     },
     "execution_count": 18,
     "metadata": {},
     "output_type": "execute_result"
    }
   ],
   "source": [
    "mad_mdR = data['Murder.Rate'].mad()\n",
    "np.round(mad_mdR, 2)"
   ]
  },
  {
   "cell_type": "markdown",
   "id": "a7544388-36f5-4173-91e8-895b8c22711e",
   "metadata": {},
   "source": [
    "Median Absolute Deviation"
   ]
  },
  {
   "cell_type": "code",
   "execution_count": 19,
   "id": "d79e3ab8-a9a3-4101-8498-c7e116cfc075",
   "metadata": {},
   "outputs": [
    {
     "data": {
      "text/plain": [
       "2596702.0"
      ]
     },
     "execution_count": 19,
     "metadata": {},
     "output_type": "execute_result"
    }
   ],
   "source": [
    "def mad(l):\n",
    "    ml = []\n",
    "    med = st.median(l)\n",
    "    for i in l:\n",
    "        ml.append(abs(i-med))\n",
    "    return st.median(ml)\n",
    "\n",
    "MAD_pop = mad(data['Population'])\n",
    "MAD_pop"
   ]
  },
  {
   "cell_type": "code",
   "execution_count": 20,
   "id": "06438f11-f359-4b66-9ccb-b66ea2362e2e",
   "metadata": {},
   "outputs": [
    {
     "data": {
      "text/plain": [
       "1.6"
      ]
     },
     "execution_count": 20,
     "metadata": {},
     "output_type": "execute_result"
    }
   ],
   "source": [
    "MAD_mdR = mad(data['Murder.Rate'])\n",
    "np.round(MAD_mdR, 2)"
   ]
  },
  {
   "cell_type": "markdown",
   "id": "922c1830-64cc-41a3-ad44-3755f88ab5ae",
   "metadata": {},
   "source": [
    "Range"
   ]
  },
  {
   "cell_type": "code",
   "execution_count": 21,
   "id": "9dfb68ae-17e1-4f32-bb03-3e00879ac18d",
   "metadata": {},
   "outputs": [
    {
     "data": {
      "text/plain": [
       "36690330"
      ]
     },
     "execution_count": 21,
     "metadata": {},
     "output_type": "execute_result"
    }
   ],
   "source": [
    "ran_pop = max(data['Population']) - min(data['Population'])\n",
    "ran_pop"
   ]
  },
  {
   "cell_type": "markdown",
   "id": "9f290a8c-05dc-4c4e-95c7-f31982f91d6d",
   "metadata": {},
   "source": [
    "Quartiles and InterQuartile Range"
   ]
  },
  {
   "cell_type": "code",
   "execution_count": 22,
   "id": "2e893eaf-86a2-4e87-b43f-316df8898052",
   "metadata": {},
   "outputs": [
    {
     "name": "stdout",
     "output_type": "stream",
     "text": [
      "Q1:  1839667.5\n",
      "Q2:  4436369.5\n",
      "Q3:  6724540\n",
      "IQR:  4884872.5\n"
     ]
    }
   ],
   "source": [
    "from statistics import median\n",
    "size = len(data['Population'])\n",
    "nums = sorted(data['Population'])\n",
    "\n",
    "q2 = median(nums)\n",
    "if len(nums) % 2 == 1:\n",
    "    q1 = median(nums[:size//2])\n",
    "    q3 = median(nums[(size//2)+1:])\n",
    "else:\n",
    "    q1 = median(nums[:(size//2) + 1])\n",
    "    q3 = median(nums[size//2:])\n",
    "    \n",
    "print('Q1: ', q1)\n",
    "print('Q2: ', q2)\n",
    "print('Q3: ', q3)\n",
    "print('IQR: ', q3 - q1)"
   ]
  },
  {
   "cell_type": "code",
   "execution_count": 23,
   "id": "7de39e81-bf00-4221-a925-82dc62b173ad",
   "metadata": {},
   "outputs": [
    {
     "name": "stdout",
     "output_type": "stream",
     "text": [
      "Q1:  2.45\n",
      "Q2:  4.0\n",
      "Q3:  5.6\n",
      "IQR:  3.15\n"
     ]
    }
   ],
   "source": [
    "size1 = len(data['Murder.Rate'])\n",
    "nums1 = sorted(data['Murder.Rate'])\n",
    "\n",
    "q2 = median(nums1)\n",
    "if len(nums1) % 2 == 1:\n",
    "    q1 = median(nums1[:size1//2])\n",
    "    q3 = median(nums1[(size1//2) + 1:])\n",
    "else:\n",
    "    q1 = median(nums1[:(size1//2) + 1])\n",
    "    q3 = median(nums1[size1//2:])\n",
    "    \n",
    "print('Q1: ', q1)\n",
    "print('Q2: ', q2)\n",
    "print('Q3: ', q3)\n",
    "print('IQR: ', np.round(q3 - q1, 2))"
   ]
  },
  {
   "cell_type": "markdown",
   "id": "960d650a-886b-4e77-b105-6f61f6feb959",
   "metadata": {},
   "source": [
    "Percentiles and BoxPlot"
   ]
  },
  {
   "cell_type": "code",
   "execution_count": 24,
   "id": "a5b003b9-fc2e-4ee9-bdf7-479f3474e9fc",
   "metadata": {},
   "outputs": [
    {
     "data": {
      "image/png": "[encoded data removed]",
      "text/plain": [
       "<Figure size 500x500 with 1 Axes>"
      ]
     },
     "metadata": {
      "needs_background": "light"
     },
     "output_type": "display_data"
    }
   ],
   "source": [
    "plt.figure(figsize = (5, 5), dpi = 100)\n",
    "plt.boxplot(data['Population'])\n",
    "plt.ylabel('Population(millions)')\n",
    "plt.show()"
   ]
  },
  {
   "cell_type": "markdown",
   "id": "b330336e-6827-48bb-b012-70dc525fd670",
   "metadata": {},
   "source": [
    "Frequency tables and histograms"
   ]
  },
  {
   "cell_type": "markdown",
   "id": "3696b09b-e5bf-41b1-ba09-6bceca309a39",
   "metadata": {},
   "source": [
    "Frequency Table"
   ]
  },
  {
   "cell_type": "code",
   "execution_count": 25,
   "id": "d92878d4-f167-4d31-95cd-dd3065b33158",
   "metadata": {},
   "outputs": [
    {
     "data": {
      "text/html": [
       "<div>\n",
       "<style scoped>\n",
       "    .dataframe tbody tr th:only-of-type {\n",
       "        vertical-align: middle;\n",
       "    }\n",
       "\n",
       "    .dataframe tbody tr th {\n",
       "        vertical-align: top;\n",
       "    }\n",
       "\n",
       "    .dataframe thead th {\n",
       "        text-align: right;\n",
       "    }\n",
       "</style>\n",
       "<table border=\"1\" class=\"dataframe\">\n",
       "  <thead>\n",
       "    <tr style=\"text-align: right;\">\n",
       "      <th></th>\n",
       "      <th>State</th>\n",
       "      <th>Population</th>\n",
       "      <th>Murder.Rate</th>\n",
       "      <th>Abbreviation</th>\n",
       "      <th>Interval</th>\n",
       "    </tr>\n",
       "  </thead>\n",
       "  <tbody>\n",
       "    <tr>\n",
       "      <th>0</th>\n",
       "      <td>Alabama</td>\n",
       "      <td>4779736</td>\n",
       "      <td>5.7</td>\n",
       "      <td>AL</td>\n",
       "      <td>(4232659.0, 7901692.0]</td>\n",
       "    </tr>\n",
       "    <tr>\n",
       "      <th>1</th>\n",
       "      <td>Alaska</td>\n",
       "      <td>710231</td>\n",
       "      <td>5.6</td>\n",
       "      <td>AK</td>\n",
       "      <td>(526935.67, 4232659.0]</td>\n",
       "    </tr>\n",
       "    <tr>\n",
       "      <th>2</th>\n",
       "      <td>Arizona</td>\n",
       "      <td>6392017</td>\n",
       "      <td>4.7</td>\n",
       "      <td>AZ</td>\n",
       "      <td>(4232659.0, 7901692.0]</td>\n",
       "    </tr>\n",
       "    <tr>\n",
       "      <th>3</th>\n",
       "      <td>Arkansas</td>\n",
       "      <td>2915918</td>\n",
       "      <td>5.6</td>\n",
       "      <td>AR</td>\n",
       "      <td>(526935.67, 4232659.0]</td>\n",
       "    </tr>\n",
       "    <tr>\n",
       "      <th>4</th>\n",
       "      <td>California</td>\n",
       "      <td>37253956</td>\n",
       "      <td>4.4</td>\n",
       "      <td>CA</td>\n",
       "      <td>(33584923.0, 37253956.0]</td>\n",
       "    </tr>\n",
       "  </tbody>\n",
       "</table>\n",
       "</div>"
      ],
      "text/plain": [
       "        State  Population  Murder.Rate Abbreviation                  Interval\n",
       "0     Alabama     4779736          5.7           AL    (4232659.0, 7901692.0]\n",
       "1      Alaska      710231          5.6           AK    (526935.67, 4232659.0]\n",
       "2     Arizona     6392017          4.7           AZ    (4232659.0, 7901692.0]\n",
       "3    Arkansas     2915918          5.6           AR    (526935.67, 4232659.0]\n",
       "4  California    37253956          4.4           CA  (33584923.0, 37253956.0]"
      ]
     },
     "execution_count": 25,
     "metadata": {},
     "output_type": "execute_result"
    }
   ],
   "source": [
    "interval = pd.cut(data['Population'], 10)\n",
    "data['Interval'] = interval\n",
    "data.head()"
   ]
  },
  {
   "cell_type": "code",
   "execution_count": 26,
   "id": "a1ca0606-acf2-46e5-bf49-7fcf82c44389",
   "metadata": {},
   "outputs": [],
   "source": [
    "nOfStates = data['Interval'].value_counts()\n",
    "\n",
    "ranges = np.array(nOfStates.index.values)\n",
    "cnt = np.array(nOfStates.values)\n",
    "\n",
    "intervalStates = {}\n",
    "for i in ranges:\n",
    "    intervalStates[i] = []\n",
    "for i in range(50):\n",
    "    intervalStates[data.iloc[i, 4]].append(data.iloc[i, 3])\n",
    "    \n",
    "intervalStates = list(intervalStates.values())\n",
    "intervalStates = [','.join(l) for l in intervalStates]"
   ]
  },
  {
   "cell_type": "code",
   "execution_count": 27,
   "id": "1c73a4ce-5dfd-4e41-901b-f7c0eb5cdc93",
   "metadata": {},
   "outputs": [
    {
     "data": {
      "text/html": [
       "<div>\n",
       "<style scoped>\n",
       "    .dataframe tbody tr th:only-of-type {\n",
       "        vertical-align: middle;\n",
       "    }\n",
       "\n",
       "    .dataframe tbody tr th {\n",
       "        vertical-align: top;\n",
       "    }\n",
       "\n",
       "    .dataframe thead th {\n",
       "        text-align: right;\n",
       "    }\n",
       "</style>\n",
       "<table border=\"1\" class=\"dataframe\">\n",
       "  <thead>\n",
       "    <tr style=\"text-align: right;\">\n",
       "      <th></th>\n",
       "      <th>Ranges</th>\n",
       "      <th>Count</th>\n",
       "      <th>States</th>\n",
       "    </tr>\n",
       "  </thead>\n",
       "  <tbody>\n",
       "    <tr>\n",
       "      <th>1</th>\n",
       "      <td>(526935.67, 4232659.0]</td>\n",
       "      <td>24</td>\n",
       "      <td>AK,AR,CT,DE,HI,ID,IA,KS,ME,MS,MT,NE,NV,NH,NM,N...</td>\n",
       "    </tr>\n",
       "    <tr>\n",
       "      <th>2</th>\n",
       "      <td>(4232659.0, 7901692.0]</td>\n",
       "      <td>14</td>\n",
       "      <td>AL,AZ,CO,IN,KY,LA,MD,MA,MN,MO,SC,TN,WA,WI</td>\n",
       "    </tr>\n",
       "    <tr>\n",
       "      <th>3</th>\n",
       "      <td>(7901692.0, 11570725.0]</td>\n",
       "      <td>6</td>\n",
       "      <td>GA,MI,NJ,NC,OH,VA</td>\n",
       "    </tr>\n",
       "    <tr>\n",
       "      <th>4</th>\n",
       "      <td>(11570725.0, 15239758.0]</td>\n",
       "      <td>2</td>\n",
       "      <td>IL,PA</td>\n",
       "    </tr>\n",
       "    <tr>\n",
       "      <th>5</th>\n",
       "      <td>(15239758.0, 18908791.0]</td>\n",
       "      <td>1</td>\n",
       "      <td>FL</td>\n",
       "    </tr>\n",
       "    <tr>\n",
       "      <th>6</th>\n",
       "      <td>(18908791.0, 22577824.0]</td>\n",
       "      <td>1</td>\n",
       "      <td>NY</td>\n",
       "    </tr>\n",
       "    <tr>\n",
       "      <th>7</th>\n",
       "      <td>(22577824.0, 26246857.0]</td>\n",
       "      <td>1</td>\n",
       "      <td>TX</td>\n",
       "    </tr>\n",
       "    <tr>\n",
       "      <th>8</th>\n",
       "      <td>(26246857.0, 29915890.0]</td>\n",
       "      <td>0</td>\n",
       "      <td></td>\n",
       "    </tr>\n",
       "    <tr>\n",
       "      <th>9</th>\n",
       "      <td>(29915890.0, 33584923.0]</td>\n",
       "      <td>0</td>\n",
       "      <td></td>\n",
       "    </tr>\n",
       "    <tr>\n",
       "      <th>10</th>\n",
       "      <td>(33584923.0, 37253956.0]</td>\n",
       "      <td>1</td>\n",
       "      <td>CA</td>\n",
       "    </tr>\n",
       "  </tbody>\n",
       "</table>\n",
       "</div>"
      ],
      "text/plain": [
       "                      Ranges  Count  \\\n",
       "1     (526935.67, 4232659.0]     24   \n",
       "2     (4232659.0, 7901692.0]     14   \n",
       "3    (7901692.0, 11570725.0]      6   \n",
       "4   (11570725.0, 15239758.0]      2   \n",
       "5   (15239758.0, 18908791.0]      1   \n",
       "6   (18908791.0, 22577824.0]      1   \n",
       "7   (22577824.0, 26246857.0]      1   \n",
       "8   (26246857.0, 29915890.0]      0   \n",
       "9   (29915890.0, 33584923.0]      0   \n",
       "10  (33584923.0, 37253956.0]      1   \n",
       "\n",
       "                                               States  \n",
       "1   AK,AR,CT,DE,HI,ID,IA,KS,ME,MS,MT,NE,NV,NH,NM,N...  \n",
       "2           AL,AZ,CO,IN,KY,LA,MD,MA,MN,MO,SC,TN,WA,WI  \n",
       "3                                   GA,MI,NJ,NC,OH,VA  \n",
       "4                                               IL,PA  \n",
       "5                                                  FL  \n",
       "6                                                  NY  \n",
       "7                                                  TX  \n",
       "8                                                      \n",
       "9                                                      \n",
       "10                                                 CA  "
      ]
     },
     "execution_count": 27,
     "metadata": {},
     "output_type": "execute_result"
    }
   ],
   "source": [
    "popFreq = pd.DataFrame({'Ranges': ranges, 'Count': cnt, 'States': intervalStates}).sort_values('Ranges').set_index(np.arange(1, 11))\n",
    "popFreq"
   ]
  },
  {
   "cell_type": "markdown",
   "id": "bcfadb83-709d-42cb-a3fc-f0709916eeff",
   "metadata": {},
   "source": [
    "Histogram"
   ]
  },
  {
   "cell_type": "code",
   "execution_count": 28,
   "id": "745da306-9792-4683-808b-7bec13e92bf7",
   "metadata": {},
   "outputs": [
    {
     "data": {
      "image/png": "[encoded data removed]",
      "text/plain": [
       "<Figure size 500x500 with 1 Axes>"
      ]
     },
     "metadata": {
      "needs_background": "light"
     },
     "output_type": "display_data"
    }
   ],
   "source": [
    "plt.figure(figsize = (5, 5), dpi = 100)\n",
    "plt.hist(data['Population'], edgecolor = 'black')\n",
    "plt.xlabel('Population (in millions)')\n",
    "plt.ylabel('Frequency')\n",
    "plt.show()"
   ]
  },
  {
   "cell_type": "markdown",
   "id": "6ce498ac-bacf-4e84-9ba9-2f6e40420e78",
   "metadata": {},
   "source": [
    "Density Estimates"
   ]
  },
  {
   "cell_type": "code",
   "execution_count": 30,
   "id": "3db919ed-6313-4d10-b087-2029654fadb1",
   "metadata": {},
   "outputs": [
    {
     "name": "stderr",
     "output_type": "stream",
     "text": [
      "C:\\Users\\rajat\\anaconda3\\lib\\site-packages\\seaborn\\distributions.py:2619: FutureWarning: `distplot` is a deprecated function and will be removed in a future version. Please adapt your code to use either `displot` (a figure-level function with similar flexibility) or `histplot` (an axes-level function for histograms).\n",
      "  warnings.warn(msg, FutureWarning)\n"
     ]
    },
    {
     "data": {
      "image/png": "[encoded data removed]",
      "text/plain": [
       "<Figure size 500x500 with 1 Axes>"
      ]
     },
     "metadata": {
      "needs_background": "light"
     },
     "output_type": "display_data"
    }
   ],
   "source": [
    "plt.figure(figsize = (5, 5), dpi = 100)\n",
    "sns.distplot(data['Murder.Rate'], hist = True, kde = True, bins = 10, hist_kws={'edgecolor':'black'}, kde_kws={'linewidth': 4})\n",
    "plt.ylabel('Density')\n",
    "plt.show()"
   ]
  },
  {
   "cell_type": "code",
   "execution_count": null,
   "id": "2142cfbc-e88f-4773-a84b-16490107eb28",
   "metadata": {},
   "outputs": [],
   "source": []
  }
 ],
 "metadata": {
  "kernelspec": {
   "display_name": "Python 3 (ipykernel)",
   "language": "python",
   "name": "python3"
  },
  "language_info": {
   "codemirror_mode": {
    "name": "ipython",
    "version": 3
   },
   "file_extension": ".py",
   "mimetype": "text/x-python",
   "name": "python",
   "nbconvert_exporter": "python",
   "pygments_lexer": "ipython3",
   "version": "3.9.12"
  }
 },
 "nbformat": 4,
 "nbformat_minor": 5
}
